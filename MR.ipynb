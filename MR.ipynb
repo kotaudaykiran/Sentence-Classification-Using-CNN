{
  "nbformat": 4,
  "nbformat_minor": 0,
  "metadata": {
    "colab": {
      "provenance": []
    },
    "kernelspec": {
      "name": "python3",
      "display_name": "Python 3"
    },
    "language_info": {
      "name": "python"
    }
  },
  "cells": [
    {
      "cell_type": "code",
      "execution_count": null,
      "metadata": {
        "id": "EAeOkDAlm4-t"
      },
      "outputs": [],
      "source": [
        "import os\n",
        "import random\n",
        "import numpy as np\n",
        "\n",
        "from collections import namedtuple\n",
        "from sklearn.preprocessing import LabelEncoder\n",
        "\n",
        "from gensim.models import Word2Vec\n",
        "from gensim.utils import simple_preprocess\n",
        "from gensim.models.keyedvectors import KeyedVectors\n",
        "\n",
        "from keras.activations import relu\n",
        "from keras.models import Sequential, Model\n",
        "from keras.layers import Input, Dense, Embedding, Flatten, Conv1D, MaxPooling1D\n",
        "from keras.layers import Dropout, concatenate\n",
        "from keras.utils.vis_utils import model_to_dot\n",
        "from sklearn.preprocessing import LabelEncoder\n",
        "\n",
        "from keras.preprocessing.text import Tokenizer\n",
        "from keras_preprocessing.sequence import pad_sequences#\n",
        "from keras.utils import to_categorical\n",
        "\n",
        "from sklearn.metrics import classification_report\n",
        "\n",
        "from IPython.display import SVG"
      ]
    },
    {
      "cell_type": "code",
      "source": [
        "from google.colab import drive\n",
        "drive.mount('/content/drive')"
      ],
      "metadata": {
        "colab": {
          "base_uri": "https://localhost:8080/"
        },
        "id": "0LFSoX6f38OE",
        "outputId": "fdb03a24-a450-4761-bf72-6f96bdd76153"
      },
      "execution_count": null,
      "outputs": [
        {
          "output_type": "stream",
          "name": "stdout",
          "text": [
            "Drive already mounted at /content/drive; to attempt to forcibly remount, call drive.mount(\"/content/drive\", force_remount=True).\n"
          ]
        }
      ]
    },
    {
      "cell_type": "code",
      "source": [
        "x_folds = [list() for _ in range(10)]\n",
        "y_folds = [list() for _ in range(10)]\n",
        "\n",
        "for directory in ['/content/drive/MyDrive/mr_data/txt_sentoken/pos/','/content/drive/MyDrive/mr_data/txt_sentoken/neg/'] :\n",
        "    for filename in os.listdir(directory) + os.listdir(directory):\n",
        "        label = directory.split(\"/\")[-2]\n",
        "        # print('label:'+ label)\n",
        "        fold = int(filename.split(\"_\")[0][2])\n",
        "        # print(fold)\n",
        "        with open(directory + filename,'r') as f_input:\n",
        "            for line in f_input:\n",
        "                x_folds[fold].append(line.strip())\n",
        "                y_folds[fold].append(label)\n",
        "\n",
        ""
      ],
      "metadata": {
        "id": "jOryG7UVxTg1"
      },
      "execution_count": null,
      "outputs": []
    },
    {
      "cell_type": "code",
      "source": [
        "print(x_folds)"
      ],
      "metadata": {
        "id": "0NvV-2GpUWcB",
        "outputId": "81c09ae7-cb8d-4ce1-974d-844486a549cb",
        "colab": {
          "base_uri": "https://localhost:8080/"
        }
      },
      "execution_count": null,
      "outputs": [
        {
          "output_type": "stream",
          "name": "stderr",
          "text": [
            "IOPub data rate exceeded.\n",
            "The notebook server will temporarily stop sending output\n",
            "to the client in order to avoid crashing it.\n",
            "To change this limit, set the config variable\n",
            "`--NotebookApp.iopub_data_rate_limit`.\n",
            "\n",
            "Current values:\n",
            "NotebookApp.iopub_data_rate_limit=1000000.0 (bytes/sec)\n",
            "NotebookApp.rate_limit_window=3.0 (secs)\n",
            "\n"
          ]
        }
      ]
    },
    {
      "cell_type": "code",
      "source": [
        "x_all = [sentence for fold in x_folds for sentence in fold]\n",
        "\n",
        "tokenizer = Tokenizer()\n",
        "tokenizer.fit_on_texts(x_all)\n",
        "sequences_train = tokenizer.texts_to_sequences(x_all)\n",
        "word_index = tokenizer.word_index\n",
        "print('Found %s unique tokens.' % len(word_index))"
      ],
      "metadata": {
        "colab": {
          "base_uri": "https://localhost:8080/"
        },
        "id": "pSgMFAO6yXBC",
        "outputId": "9ff95bf8-bb53-4735-8253-f8cd4daffb16"
      },
      "execution_count": null,
      "outputs": [
        {
          "output_type": "stream",
          "name": "stdout",
          "text": [
            "Found 43296 unique tokens.\n"
          ]
        }
      ]
    },
    {
      "cell_type": "code",
      "source": [
        "max_input_length = max([len(x) for x in x_all])\n",
        "print(\"Max. sequence length: \", max_input_length)\n"
      ],
      "metadata": {
        "colab": {
          "base_uri": "https://localhost:8080/"
        },
        "id": "TLWyUD-f7k-y",
        "outputId": "0d42186e-b2b3-4f7c-88fc-983190045ed2"
      },
      "execution_count": null,
      "outputs": [
        {
          "output_type": "stream",
          "name": "stdout",
          "text": [
            "Max. sequence length:  887\n"
          ]
        }
      ]
    },
    {
      "cell_type": "code",
      "source": [
        "x_folds_padded = []\n",
        "for fold in x_folds:\n",
        "    tokenized_fold = tokenizer.texts_to_sequences(fold)\n",
        "    x_folds_padded.append(pad_sequences(tokenized_fold, maxlen = max_input_length, padding='post', truncating='post'))\n"
      ],
      "metadata": {
        "id": "AoUiEIUL7p2q"
      },
      "execution_count": null,
      "outputs": []
    },
    {
      "cell_type": "code",
      "source": [
        "le = LabelEncoder()\n",
        "le.fit(y_folds[0])\n",
        "\n",
        "y_folds_categ = []\n",
        "\n",
        "for y_fold in y_folds:\n",
        "    y_categ = le.transform(y_fold)\n",
        "    y_folds_categ.append(to_categorical(y_categ, num_classes=None))\n",
        "\n",
        "#print(y_folds_categ)"
      ],
      "metadata": {
        "id": "8Zx3SX4595hB"
      },
      "execution_count": null,
      "outputs": []
    },
    {
      "cell_type": "code",
      "source": [
        "def load_fasttext_embeddings():\n",
        "    glove_dir = '/content/drive/MyDrive/mr_data/Glove.6B'\n",
        "    embeddings_index = {}\n",
        "    f = open(os.path.join(glove_dir, 'glove.6B.100d.txt'))\n",
        "    for line in f:\n",
        "        values = line.split()\n",
        "        word = values[0]\n",
        "        coefs = np.asarray(values[1:], dtype='float32')\n",
        "        embeddings_index[word] = coefs\n",
        "    f.close()\n",
        "    print('Found %s word vectors.' % len(embeddings_index))\n",
        "    return embeddings_index\n",
        "\n",
        "def create_embeddings_matrix(embeddings_index, vocabulary, embedding_dim=100):\n",
        "    embeddings_matrix = np.random.rand(len(vocabulary)+1, embedding_dim)\n",
        "    for i, word in enumerate(vocabulary):\n",
        "        embedding_vector = embeddings_index.get(word)\n",
        "        if embedding_vector is not None:\n",
        "            embeddings_matrix[i] = embedding_vector\n",
        "    print('Matrix shape: {}'.format(embeddings_matrix.shape))\n",
        "    return embeddings_matrix\n",
        "\n",
        "def get_embeddings_layer(embeddings_matrix, name, max_len, trainable=False):\n",
        "    embedding_layer = Embedding(\n",
        "        input_dim=embeddings_matrix.shape[0],\n",
        "        output_dim=embeddings_matrix.shape[1],\n",
        "        input_length=max_len,\n",
        "        weights=[embeddings_matrix],\n",
        "        trainable=trainable,\n",
        "        name=name)\n",
        "    return embedding_layer\n",
        "\n",
        "\n",
        "def get_conv_pool(x_input, max_len, sufix, n_grams=[3,4,5], feature_maps=100):\n",
        "    branches = []\n",
        "    for n in n_grams:\n",
        "        branch = Conv1D(filters=feature_maps, kernel_size=n, activation=relu, name='Conv_'+sufix+'_'+str(n))(x_input)\n",
        "        branch = MaxPooling1D(pool_size=max_len-n+1, strides=None, padding='valid', name='MaxPooling_'+sufix+'_'+str(n))(branch)\n",
        "        branch = Flatten(name='Flatten_'+sufix+'_'+str(n))(branch)\n",
        "        branches.append(branch)\n",
        "    return branches"
      ],
      "metadata": {
        "id": "SKeP4vPGnJx8"
      },
      "execution_count": null,
      "outputs": []
    },
    {
      "cell_type": "code",
      "source": [
        "embeddings_index = load_fasttext_embeddings()"
      ],
      "metadata": {
        "id": "T_vuDzYDnhLP",
        "colab": {
          "base_uri": "https://localhost:8080/"
        },
        "outputId": "a1e858f7-80ec-46f8-f6e4-1f75cbb6e98c"
      },
      "execution_count": null,
      "outputs": [
        {
          "output_type": "stream",
          "name": "stdout",
          "text": [
            "Found 400000 word vectors.\n"
          ]
        }
      ]
    },
    {
      "cell_type": "code",
      "source": [
        "vocabulary = embeddings_index.keys()\n",
        "embeddings_matrix = create_embeddings_matrix(embeddings_index, vocabulary, 100)"
      ],
      "metadata": {
        "id": "b_cSczt4nlWk",
        "colab": {
          "base_uri": "https://localhost:8080/"
        },
        "outputId": "ec80b8ed-b05a-4443-8306-238d2bb2c27d"
      },
      "execution_count": null,
      "outputs": [
        {
          "output_type": "stream",
          "name": "stdout",
          "text": [
            "Matrix shape: (400001, 100)\n"
          ]
        }
      ]
    },
    {
      "cell_type": "code",
      "source": [
        "embedding_layer = get_embeddings_layer(embeddings_matrix, 'embedding_layer_static', 55, trainable=False)\n"
      ],
      "metadata": {
        "id": "kV5ZCdA7nnrv"
      },
      "execution_count": null,
      "outputs": []
    },
    {
      "cell_type": "code",
      "source": [
        "def load_fasttext_embeddings():\n",
        "    glove_dir = '/content/drive/MyDrive/mr_data/Glove.6B'\n",
        "    embeddings_index = {}\n",
        "    f = open(os.path.join(glove_dir, 'glove.6B.100d.txt'))\n",
        "    for line in f:\n",
        "        values = line.split()\n",
        "        word = values[0]\n",
        "        coefs = np.asarray(values[1:], dtype='float32')\n",
        "        embeddings_index[word] = coefs\n",
        "    f.close()\n",
        "    print('Loaded %s word vectors.' % len(embeddings_index))\n",
        "    return embeddings_index\n",
        "\n",
        "\n",
        "def create_embeddings_matrix(embeddings_index, vocabulary, embedding_dim=100):\n",
        "    embeddings_matrix = np.random.rand(len(vocabulary) + 1, embedding_dim)\n",
        "    for i, word in enumerate(vocabulary):\n",
        "        embedding_vector = embeddings_index.get(word)\n",
        "        if embedding_vector is not None:\n",
        "            embeddings_matrix[i] = embedding_vector\n",
        "    print('Matrix shape: {}'.format(embeddings_matrix.shape))\n",
        "    return embeddings_matrix\n",
        "\n",
        "\n",
        "def get_embeddings_layer(embeddings_matrix, name, max_len, trainable=False):\n",
        "    embedding_layer = Embedding(\n",
        "        input_dim=embeddings_matrix.shape[0],\n",
        "        output_dim=embeddings_matrix.shape[1],\n",
        "        input_length=max_len,\n",
        "        weights=[embeddings_matrix],\n",
        "        trainable=trainable,\n",
        "        name=name)\n",
        "    return embedding_layer\n",
        "\n",
        "\n",
        "def get_conv_pool(x_input, max_len, suffix, n_grams=[3, 4, 5], feature_maps=100):\n",
        "    branches = []\n",
        "    for n in n_grams:\n",
        "        branch = Conv1D(filters=feature_maps, kernel_size=n, activation=relu,\n",
        "                        name='Conv_' + suffix + '_' + str(n))(x_input)\n",
        "        branch = MaxPooling1D(pool_size=max_len - n + 1, strides=None, padding='valid',\n",
        "                              name='MaxPooling_' + suffix + '_' + str(n))(branch)\n",
        "        branch = Flatten(name='Flatten_' + suffix + '_' + str(n))(branch)\n",
        "        branches.append(branch)\n",
        "    return branches\n",
        "\n",
        "\n",
        "def get_cnn_pre_trained_embeddings(embedding_layer, max_len, num_classes,\n",
        "                                   loss='categorical_crossentropy'):\n",
        "    # connect the input with the embedding layer\n",
        "    i = Input(shape=(max_len,), dtype='int32', name='main_input')\n",
        "    x = embedding_layer(i)\n",
        "\n",
        "    # generate several branches in the network, each for a different convolution+pooling operation,\n",
        "    # and concatenate the result of each branch into a single vector\n",
        "    branches = get_conv_pool(x, max_len, 'static')\n",
        "    z = concatenate(branches, axis=-1)\n",
        "    z = Dropout(0.5)(z)\n",
        "\n",
        "    # pass the concatenated vector to the prediction layer\n",
        "    o = Dense(num_classes, activation='softmax', name='output')(z)\n",
        "\n",
        "    model = Model(inputs=i, outputs=o)\n",
        "    model.compile(loss={'output': loss}, optimizer='adam', metrics=['accuracy'])\n",
        "    print()\n",
        "\n",
        "    return model"
      ],
      "metadata": {
        "id": "Z1PYxNetCMGB"
      },
      "execution_count": null,
      "outputs": []
    },
    {
      "cell_type": "code",
      "source": [
        "def get_cnn_pre_trained_embeddings(embedding_layer, max_len):\n",
        "    # connect the input with the embedding layer\n",
        "    i = Input(shape=(max_len,), dtype='int32', name='main_input')\n",
        "    x = embedding_layer(i)\n",
        "\n",
        "    # generate several branches in the network, each for a different convolution+pooling operation,\n",
        "    # and concatenate the result of each branch into a single vector\n",
        "    branches = get_conv_pool(x, max_len, 'static')\n",
        "    z = concatenate(branches, axis=-1)\n",
        "\n",
        "    # pass the concatenated vector to the predition layer\n",
        "    o = Dense(1, activation='sigmoid', name='output')(z)\n",
        "\n",
        "    model = Model(inputs=i, outputs=o)\n",
        "    model.compile(loss={'output': 'binary_crossentropy'}, optimizer='adam')\n",
        "\n",
        "    return model"
      ],
      "metadata": {
        "id": "4TmiFXSYnqw6"
      },
      "execution_count": null,
      "outputs": []
    },
    {
      "cell_type": "code",
      "source": [
        "model = get_cnn_pre_trained_embeddings(embedding_layer, 55)\n"
      ],
      "metadata": {
        "id": "0B-bCwd1ntQi"
      },
      "execution_count": null,
      "outputs": []
    },
    {
      "cell_type": "code",
      "source": [
        "SVG(model_to_dot(model, show_layer_names=True, show_shapes=True).create(prog='dot', format='svg'))\n"
      ],
      "metadata": {
        "id": "CJCN0ZAnnv4c",
        "colab": {
          "base_uri": "https://localhost:8080/",
          "height": 1000
        },
        "outputId": "33259f65-4ec4-49ee-b32f-b198552a4374"
      },
      "execution_count": null,
      "outputs": [
        {
          "output_type": "execute_result",
          "data": {
            "text/plain": [
              "<IPython.core.display.SVG object>"
            ],
            "image/svg+xml": "<svg xmlns=\"http://www.w3.org/2000/svg\" xmlns:xlink=\"http://www.w3.org/1999/xlink\" width=\"1291pt\" height=\"737pt\" viewBox=\"0.00 0.00 968.00 553.00\">\n<g id=\"graph0\" class=\"graph\" transform=\"scale(1.3333 1.3333) rotate(0) translate(4 549)\">\n<title>G</title>\n<polygon fill=\"#ffffff\" stroke=\"transparent\" points=\"-4,4 -4,-549 964,-549 964,4 -4,4\"/>\n<!-- 139741776405840 -->\n<g id=\"node1\" class=\"node\">\n<title>139741776405840</title>\n<polygon fill=\"none\" stroke=\"#000000\" points=\"365,-498.5 365,-544.5 595,-544.5 595,-498.5 365,-498.5\"/>\n<text text-anchor=\"middle\" x=\"406.5\" y=\"-529.3\" font-family=\"Times,serif\" font-size=\"14.00\" fill=\"#000000\">main_input</text>\n<polyline fill=\"none\" stroke=\"#000000\" points=\"365,-521.5 448,-521.5 \"/>\n<text text-anchor=\"middle\" x=\"406.5\" y=\"-506.3\" font-family=\"Times,serif\" font-size=\"14.00\" fill=\"#000000\">InputLayer</text>\n<polyline fill=\"none\" stroke=\"#000000\" points=\"448,-498.5 448,-544.5 \"/>\n<text text-anchor=\"middle\" x=\"477\" y=\"-529.3\" font-family=\"Times,serif\" font-size=\"14.00\" fill=\"#000000\">input:</text>\n<polyline fill=\"none\" stroke=\"#000000\" points=\"448,-521.5 506,-521.5 \"/>\n<text text-anchor=\"middle\" x=\"477\" y=\"-506.3\" font-family=\"Times,serif\" font-size=\"14.00\" fill=\"#000000\">output:</text>\n<polyline fill=\"none\" stroke=\"#000000\" points=\"506,-498.5 506,-544.5 \"/>\n<text text-anchor=\"middle\" x=\"550.5\" y=\"-529.3\" font-family=\"Times,serif\" font-size=\"14.00\" fill=\"#000000\">[(None, 55)]</text>\n<polyline fill=\"none\" stroke=\"#000000\" points=\"506,-521.5 595,-521.5 \"/>\n<text text-anchor=\"middle\" x=\"550.5\" y=\"-506.3\" font-family=\"Times,serif\" font-size=\"14.00\" fill=\"#000000\">[(None, 55)]</text>\n</g>\n<!-- 139741777477488 -->\n<g id=\"node2\" class=\"node\">\n<title>139741777477488</title>\n<polygon fill=\"none\" stroke=\"#000000\" points=\"320,-415.5 320,-461.5 640,-461.5 640,-415.5 320,-415.5\"/>\n<text text-anchor=\"middle\" x=\"396\" y=\"-446.3\" font-family=\"Times,serif\" font-size=\"14.00\" fill=\"#000000\">embedding_layer_static</text>\n<polyline fill=\"none\" stroke=\"#000000\" points=\"320,-438.5 472,-438.5 \"/>\n<text text-anchor=\"middle\" x=\"396\" y=\"-423.3\" font-family=\"Times,serif\" font-size=\"14.00\" fill=\"#000000\">Embedding</text>\n<polyline fill=\"none\" stroke=\"#000000\" points=\"472,-415.5 472,-461.5 \"/>\n<text text-anchor=\"middle\" x=\"501\" y=\"-446.3\" font-family=\"Times,serif\" font-size=\"14.00\" fill=\"#000000\">input:</text>\n<polyline fill=\"none\" stroke=\"#000000\" points=\"472,-438.5 530,-438.5 \"/>\n<text text-anchor=\"middle\" x=\"501\" y=\"-423.3\" font-family=\"Times,serif\" font-size=\"14.00\" fill=\"#000000\">output:</text>\n<polyline fill=\"none\" stroke=\"#000000\" points=\"530,-415.5 530,-461.5 \"/>\n<text text-anchor=\"middle\" x=\"585\" y=\"-446.3\" font-family=\"Times,serif\" font-size=\"14.00\" fill=\"#000000\">(None, 55)</text>\n<polyline fill=\"none\" stroke=\"#000000\" points=\"530,-438.5 640,-438.5 \"/>\n<text text-anchor=\"middle\" x=\"585\" y=\"-423.3\" font-family=\"Times,serif\" font-size=\"14.00\" fill=\"#000000\">(None, 55, 100)</text>\n</g>\n<!-- 139741776405840&#45;&gt;139741777477488 -->\n<g id=\"edge1\" class=\"edge\">\n<title>139741776405840-&gt;139741777477488</title>\n<path fill=\"none\" stroke=\"#000000\" d=\"M480,-498.3799C480,-490.1745 480,-480.7679 480,-471.8786\"/>\n<polygon fill=\"#000000\" stroke=\"#000000\" points=\"483.5001,-471.784 480,-461.784 476.5001,-471.784 483.5001,-471.784\"/>\n</g>\n<!-- 139741776404688 -->\n<g id=\"node3\" class=\"node\">\n<title>139741776404688</title>\n<polygon fill=\"none\" stroke=\"#000000\" points=\"40,-332.5 40,-378.5 308,-378.5 308,-332.5 40,-332.5\"/>\n<text text-anchor=\"middle\" x=\"90\" y=\"-363.3\" font-family=\"Times,serif\" font-size=\"14.00\" fill=\"#000000\">Conv_static_3</text>\n<polyline fill=\"none\" stroke=\"#000000\" points=\"40,-355.5 140,-355.5 \"/>\n<text text-anchor=\"middle\" x=\"90\" y=\"-340.3\" font-family=\"Times,serif\" font-size=\"14.00\" fill=\"#000000\">Conv1D</text>\n<polyline fill=\"none\" stroke=\"#000000\" points=\"140,-332.5 140,-378.5 \"/>\n<text text-anchor=\"middle\" x=\"169\" y=\"-363.3\" font-family=\"Times,serif\" font-size=\"14.00\" fill=\"#000000\">input:</text>\n<polyline fill=\"none\" stroke=\"#000000\" points=\"140,-355.5 198,-355.5 \"/>\n<text text-anchor=\"middle\" x=\"169\" y=\"-340.3\" font-family=\"Times,serif\" font-size=\"14.00\" fill=\"#000000\">output:</text>\n<polyline fill=\"none\" stroke=\"#000000\" points=\"198,-332.5 198,-378.5 \"/>\n<text text-anchor=\"middle\" x=\"253\" y=\"-363.3\" font-family=\"Times,serif\" font-size=\"14.00\" fill=\"#000000\">(None, 55, 100)</text>\n<polyline fill=\"none\" stroke=\"#000000\" points=\"198,-355.5 308,-355.5 \"/>\n<text text-anchor=\"middle\" x=\"253\" y=\"-340.3\" font-family=\"Times,serif\" font-size=\"14.00\" fill=\"#000000\">(None, 53, 100)</text>\n</g>\n<!-- 139741777477488&#45;&gt;139741776404688 -->\n<g id=\"edge2\" class=\"edge\">\n<title>139741777477488-&gt;139741776404688</title>\n<path fill=\"none\" stroke=\"#000000\" d=\"M395.1683,-415.4901C355.9522,-404.853 309.2256,-392.1788 268.8473,-381.2266\"/>\n<polygon fill=\"#000000\" stroke=\"#000000\" points=\"269.5643,-377.7946 258.9967,-378.5547 267.7317,-384.5505 269.5643,-377.7946\"/>\n</g>\n<!-- 139741777326864 -->\n<g id=\"node4\" class=\"node\">\n<title>139741777326864</title>\n<polygon fill=\"none\" stroke=\"#000000\" points=\"346,-332.5 346,-378.5 614,-378.5 614,-332.5 346,-332.5\"/>\n<text text-anchor=\"middle\" x=\"396\" y=\"-363.3\" font-family=\"Times,serif\" font-size=\"14.00\" fill=\"#000000\">Conv_static_4</text>\n<polyline fill=\"none\" stroke=\"#000000\" points=\"346,-355.5 446,-355.5 \"/>\n<text text-anchor=\"middle\" x=\"396\" y=\"-340.3\" font-family=\"Times,serif\" font-size=\"14.00\" fill=\"#000000\">Conv1D</text>\n<polyline fill=\"none\" stroke=\"#000000\" points=\"446,-332.5 446,-378.5 \"/>\n<text text-anchor=\"middle\" x=\"475\" y=\"-363.3\" font-family=\"Times,serif\" font-size=\"14.00\" fill=\"#000000\">input:</text>\n<polyline fill=\"none\" stroke=\"#000000\" points=\"446,-355.5 504,-355.5 \"/>\n<text text-anchor=\"middle\" x=\"475\" y=\"-340.3\" font-family=\"Times,serif\" font-size=\"14.00\" fill=\"#000000\">output:</text>\n<polyline fill=\"none\" stroke=\"#000000\" points=\"504,-332.5 504,-378.5 \"/>\n<text text-anchor=\"middle\" x=\"559\" y=\"-363.3\" font-family=\"Times,serif\" font-size=\"14.00\" fill=\"#000000\">(None, 55, 100)</text>\n<polyline fill=\"none\" stroke=\"#000000\" points=\"504,-355.5 614,-355.5 \"/>\n<text text-anchor=\"middle\" x=\"559\" y=\"-340.3\" font-family=\"Times,serif\" font-size=\"14.00\" fill=\"#000000\">(None, 52, 100)</text>\n</g>\n<!-- 139741777477488&#45;&gt;139741777326864 -->\n<g id=\"edge3\" class=\"edge\">\n<title>139741777477488-&gt;139741777326864</title>\n<path fill=\"none\" stroke=\"#000000\" d=\"M480,-415.3799C480,-407.1745 480,-397.7679 480,-388.8786\"/>\n<polygon fill=\"#000000\" stroke=\"#000000\" points=\"483.5001,-388.784 480,-378.784 476.5001,-388.784 483.5001,-388.784\"/>\n</g>\n<!-- 139741776982080 -->\n<g id=\"node5\" class=\"node\">\n<title>139741776982080</title>\n<polygon fill=\"none\" stroke=\"#000000\" points=\"652,-332.5 652,-378.5 920,-378.5 920,-332.5 652,-332.5\"/>\n<text text-anchor=\"middle\" x=\"702\" y=\"-363.3\" font-family=\"Times,serif\" font-size=\"14.00\" fill=\"#000000\">Conv_static_5</text>\n<polyline fill=\"none\" stroke=\"#000000\" points=\"652,-355.5 752,-355.5 \"/>\n<text text-anchor=\"middle\" x=\"702\" y=\"-340.3\" font-family=\"Times,serif\" font-size=\"14.00\" fill=\"#000000\">Conv1D</text>\n<polyline fill=\"none\" stroke=\"#000000\" points=\"752,-332.5 752,-378.5 \"/>\n<text text-anchor=\"middle\" x=\"781\" y=\"-363.3\" font-family=\"Times,serif\" font-size=\"14.00\" fill=\"#000000\">input:</text>\n<polyline fill=\"none\" stroke=\"#000000\" points=\"752,-355.5 810,-355.5 \"/>\n<text text-anchor=\"middle\" x=\"781\" y=\"-340.3\" font-family=\"Times,serif\" font-size=\"14.00\" fill=\"#000000\">output:</text>\n<polyline fill=\"none\" stroke=\"#000000\" points=\"810,-332.5 810,-378.5 \"/>\n<text text-anchor=\"middle\" x=\"865\" y=\"-363.3\" font-family=\"Times,serif\" font-size=\"14.00\" fill=\"#000000\">(None, 55, 100)</text>\n<polyline fill=\"none\" stroke=\"#000000\" points=\"810,-355.5 920,-355.5 \"/>\n<text text-anchor=\"middle\" x=\"865\" y=\"-340.3\" font-family=\"Times,serif\" font-size=\"14.00\" fill=\"#000000\">(None, 51, 100)</text>\n</g>\n<!-- 139741777477488&#45;&gt;139741776982080 -->\n<g id=\"edge4\" class=\"edge\">\n<title>139741777477488-&gt;139741776982080</title>\n<path fill=\"none\" stroke=\"#000000\" d=\"M564.8317,-415.4901C604.0478,-404.853 650.7744,-392.1788 691.1527,-381.2266\"/>\n<polygon fill=\"#000000\" stroke=\"#000000\" points=\"692.2683,-384.5505 701.0033,-378.5547 690.4357,-377.7946 692.2683,-384.5505\"/>\n</g>\n<!-- 139741776405408 -->\n<g id=\"node6\" class=\"node\">\n<title>139741776405408</title>\n<polygon fill=\"none\" stroke=\"#000000\" points=\"0,-249.5 0,-295.5 308,-295.5 308,-249.5 0,-249.5\"/>\n<text text-anchor=\"middle\" x=\"70\" y=\"-280.3\" font-family=\"Times,serif\" font-size=\"14.00\" fill=\"#000000\">MaxPooling_static_3</text>\n<polyline fill=\"none\" stroke=\"#000000\" points=\"0,-272.5 140,-272.5 \"/>\n<text text-anchor=\"middle\" x=\"70\" y=\"-257.3\" font-family=\"Times,serif\" font-size=\"14.00\" fill=\"#000000\">MaxPooling1D</text>\n<polyline fill=\"none\" stroke=\"#000000\" points=\"140,-249.5 140,-295.5 \"/>\n<text text-anchor=\"middle\" x=\"169\" y=\"-280.3\" font-family=\"Times,serif\" font-size=\"14.00\" fill=\"#000000\">input:</text>\n<polyline fill=\"none\" stroke=\"#000000\" points=\"140,-272.5 198,-272.5 \"/>\n<text text-anchor=\"middle\" x=\"169\" y=\"-257.3\" font-family=\"Times,serif\" font-size=\"14.00\" fill=\"#000000\">output:</text>\n<polyline fill=\"none\" stroke=\"#000000\" points=\"198,-249.5 198,-295.5 \"/>\n<text text-anchor=\"middle\" x=\"253\" y=\"-280.3\" font-family=\"Times,serif\" font-size=\"14.00\" fill=\"#000000\">(None, 53, 100)</text>\n<polyline fill=\"none\" stroke=\"#000000\" points=\"198,-272.5 308,-272.5 \"/>\n<text text-anchor=\"middle\" x=\"253\" y=\"-257.3\" font-family=\"Times,serif\" font-size=\"14.00\" fill=\"#000000\">(None, 1, 100)</text>\n</g>\n<!-- 139741776404688&#45;&gt;139741776405408 -->\n<g id=\"edge5\" class=\"edge\">\n<title>139741776404688-&gt;139741776405408</title>\n<path fill=\"none\" stroke=\"#000000\" d=\"M168.4289,-332.3799C166.4302,-324.0854 164.1357,-314.5633 161.9732,-305.5889\"/>\n<polygon fill=\"#000000\" stroke=\"#000000\" points=\"165.3559,-304.6858 159.6106,-295.784 158.5507,-306.3257 165.3559,-304.6858\"/>\n</g>\n<!-- 139741777326528 -->\n<g id=\"node7\" class=\"node\">\n<title>139741777326528</title>\n<polygon fill=\"none\" stroke=\"#000000\" points=\"326,-249.5 326,-295.5 634,-295.5 634,-249.5 326,-249.5\"/>\n<text text-anchor=\"middle\" x=\"396\" y=\"-280.3\" font-family=\"Times,serif\" font-size=\"14.00\" fill=\"#000000\">MaxPooling_static_4</text>\n<polyline fill=\"none\" stroke=\"#000000\" points=\"326,-272.5 466,-272.5 \"/>\n<text text-anchor=\"middle\" x=\"396\" y=\"-257.3\" font-family=\"Times,serif\" font-size=\"14.00\" fill=\"#000000\">MaxPooling1D</text>\n<polyline fill=\"none\" stroke=\"#000000\" points=\"466,-249.5 466,-295.5 \"/>\n<text text-anchor=\"middle\" x=\"495\" y=\"-280.3\" font-family=\"Times,serif\" font-size=\"14.00\" fill=\"#000000\">input:</text>\n<polyline fill=\"none\" stroke=\"#000000\" points=\"466,-272.5 524,-272.5 \"/>\n<text text-anchor=\"middle\" x=\"495\" y=\"-257.3\" font-family=\"Times,serif\" font-size=\"14.00\" fill=\"#000000\">output:</text>\n<polyline fill=\"none\" stroke=\"#000000\" points=\"524,-249.5 524,-295.5 \"/>\n<text text-anchor=\"middle\" x=\"579\" y=\"-280.3\" font-family=\"Times,serif\" font-size=\"14.00\" fill=\"#000000\">(None, 52, 100)</text>\n<polyline fill=\"none\" stroke=\"#000000\" points=\"524,-272.5 634,-272.5 \"/>\n<text text-anchor=\"middle\" x=\"579\" y=\"-257.3\" font-family=\"Times,serif\" font-size=\"14.00\" fill=\"#000000\">(None, 1, 100)</text>\n</g>\n<!-- 139741777326864&#45;&gt;139741777326528 -->\n<g id=\"edge6\" class=\"edge\">\n<title>139741777326864-&gt;139741777326528</title>\n<path fill=\"none\" stroke=\"#000000\" d=\"M480,-332.3799C480,-324.1745 480,-314.7679 480,-305.8786\"/>\n<polygon fill=\"#000000\" stroke=\"#000000\" points=\"483.5001,-305.784 480,-295.784 476.5001,-305.784 483.5001,-305.784\"/>\n</g>\n<!-- 139741776405888 -->\n<g id=\"node8\" class=\"node\">\n<title>139741776405888</title>\n<polygon fill=\"none\" stroke=\"#000000\" points=\"652,-249.5 652,-295.5 960,-295.5 960,-249.5 652,-249.5\"/>\n<text text-anchor=\"middle\" x=\"722\" y=\"-280.3\" font-family=\"Times,serif\" font-size=\"14.00\" fill=\"#000000\">MaxPooling_static_5</text>\n<polyline fill=\"none\" stroke=\"#000000\" points=\"652,-272.5 792,-272.5 \"/>\n<text text-anchor=\"middle\" x=\"722\" y=\"-257.3\" font-family=\"Times,serif\" font-size=\"14.00\" fill=\"#000000\">MaxPooling1D</text>\n<polyline fill=\"none\" stroke=\"#000000\" points=\"792,-249.5 792,-295.5 \"/>\n<text text-anchor=\"middle\" x=\"821\" y=\"-280.3\" font-family=\"Times,serif\" font-size=\"14.00\" fill=\"#000000\">input:</text>\n<polyline fill=\"none\" stroke=\"#000000\" points=\"792,-272.5 850,-272.5 \"/>\n<text text-anchor=\"middle\" x=\"821\" y=\"-257.3\" font-family=\"Times,serif\" font-size=\"14.00\" fill=\"#000000\">output:</text>\n<polyline fill=\"none\" stroke=\"#000000\" points=\"850,-249.5 850,-295.5 \"/>\n<text text-anchor=\"middle\" x=\"905\" y=\"-280.3\" font-family=\"Times,serif\" font-size=\"14.00\" fill=\"#000000\">(None, 51, 100)</text>\n<polyline fill=\"none\" stroke=\"#000000\" points=\"850,-272.5 960,-272.5 \"/>\n<text text-anchor=\"middle\" x=\"905\" y=\"-257.3\" font-family=\"Times,serif\" font-size=\"14.00\" fill=\"#000000\">(None, 1, 100)</text>\n</g>\n<!-- 139741776982080&#45;&gt;139741776405888 -->\n<g id=\"edge7\" class=\"edge\">\n<title>139741776982080-&gt;139741776405888</title>\n<path fill=\"none\" stroke=\"#000000\" d=\"M791.5711,-332.3799C793.5698,-324.0854 795.8643,-314.5633 798.0268,-305.5889\"/>\n<polygon fill=\"#000000\" stroke=\"#000000\" points=\"801.4493,-306.3257 800.3894,-295.784 794.6441,-304.6858 801.4493,-306.3257\"/>\n</g>\n<!-- 139742047814080 -->\n<g id=\"node9\" class=\"node\">\n<title>139742047814080</title>\n<polygon fill=\"none\" stroke=\"#000000\" points=\"41.5,-166.5 41.5,-212.5 308.5,-212.5 308.5,-166.5 41.5,-166.5\"/>\n<text text-anchor=\"middle\" x=\"95\" y=\"-197.3\" font-family=\"Times,serif\" font-size=\"14.00\" fill=\"#000000\">Flatten_static_3</text>\n<polyline fill=\"none\" stroke=\"#000000\" points=\"41.5,-189.5 148.5,-189.5 \"/>\n<text text-anchor=\"middle\" x=\"95\" y=\"-174.3\" font-family=\"Times,serif\" font-size=\"14.00\" fill=\"#000000\">Flatten</text>\n<polyline fill=\"none\" stroke=\"#000000\" points=\"148.5,-166.5 148.5,-212.5 \"/>\n<text text-anchor=\"middle\" x=\"177.5\" y=\"-197.3\" font-family=\"Times,serif\" font-size=\"14.00\" fill=\"#000000\">input:</text>\n<polyline fill=\"none\" stroke=\"#000000\" points=\"148.5,-189.5 206.5,-189.5 \"/>\n<text text-anchor=\"middle\" x=\"177.5\" y=\"-174.3\" font-family=\"Times,serif\" font-size=\"14.00\" fill=\"#000000\">output:</text>\n<polyline fill=\"none\" stroke=\"#000000\" points=\"206.5,-166.5 206.5,-212.5 \"/>\n<text text-anchor=\"middle\" x=\"257.5\" y=\"-197.3\" font-family=\"Times,serif\" font-size=\"14.00\" fill=\"#000000\">(None, 1, 100)</text>\n<polyline fill=\"none\" stroke=\"#000000\" points=\"206.5,-189.5 308.5,-189.5 \"/>\n<text text-anchor=\"middle\" x=\"257.5\" y=\"-174.3\" font-family=\"Times,serif\" font-size=\"14.00\" fill=\"#000000\">(None, 100)</text>\n</g>\n<!-- 139741776405408&#45;&gt;139742047814080 -->\n<g id=\"edge8\" class=\"edge\">\n<title>139741776405408-&gt;139742047814080</title>\n<path fill=\"none\" stroke=\"#000000\" d=\"M159.8497,-249.3799C161.9483,-241.0854 164.3575,-231.5633 166.6281,-222.5889\"/>\n<polygon fill=\"#000000\" stroke=\"#000000\" points=\"170.049,-223.337 169.1089,-212.784 163.2629,-221.62 170.049,-223.337\"/>\n</g>\n<!-- 139741777329504 -->\n<g id=\"node10\" class=\"node\">\n<title>139741777329504</title>\n<polygon fill=\"none\" stroke=\"#000000\" points=\"346.5,-166.5 346.5,-212.5 613.5,-212.5 613.5,-166.5 346.5,-166.5\"/>\n<text text-anchor=\"middle\" x=\"400\" y=\"-197.3\" font-family=\"Times,serif\" font-size=\"14.00\" fill=\"#000000\">Flatten_static_4</text>\n<polyline fill=\"none\" stroke=\"#000000\" points=\"346.5,-189.5 453.5,-189.5 \"/>\n<text text-anchor=\"middle\" x=\"400\" y=\"-174.3\" font-family=\"Times,serif\" font-size=\"14.00\" fill=\"#000000\">Flatten</text>\n<polyline fill=\"none\" stroke=\"#000000\" points=\"453.5,-166.5 453.5,-212.5 \"/>\n<text text-anchor=\"middle\" x=\"482.5\" y=\"-197.3\" font-family=\"Times,serif\" font-size=\"14.00\" fill=\"#000000\">input:</text>\n<polyline fill=\"none\" stroke=\"#000000\" points=\"453.5,-189.5 511.5,-189.5 \"/>\n<text text-anchor=\"middle\" x=\"482.5\" y=\"-174.3\" font-family=\"Times,serif\" font-size=\"14.00\" fill=\"#000000\">output:</text>\n<polyline fill=\"none\" stroke=\"#000000\" points=\"511.5,-166.5 511.5,-212.5 \"/>\n<text text-anchor=\"middle\" x=\"562.5\" y=\"-197.3\" font-family=\"Times,serif\" font-size=\"14.00\" fill=\"#000000\">(None, 1, 100)</text>\n<polyline fill=\"none\" stroke=\"#000000\" points=\"511.5,-189.5 613.5,-189.5 \"/>\n<text text-anchor=\"middle\" x=\"562.5\" y=\"-174.3\" font-family=\"Times,serif\" font-size=\"14.00\" fill=\"#000000\">(None, 100)</text>\n</g>\n<!-- 139741777326528&#45;&gt;139741777329504 -->\n<g id=\"edge9\" class=\"edge\">\n<title>139741777326528-&gt;139741777329504</title>\n<path fill=\"none\" stroke=\"#000000\" d=\"M480,-249.3799C480,-241.1745 480,-231.7679 480,-222.8786\"/>\n<polygon fill=\"#000000\" stroke=\"#000000\" points=\"483.5001,-222.784 480,-212.784 476.5001,-222.784 483.5001,-222.784\"/>\n</g>\n<!-- 139741776405264 -->\n<g id=\"node11\" class=\"node\">\n<title>139741776405264</title>\n<polygon fill=\"none\" stroke=\"#000000\" points=\"651.5,-166.5 651.5,-212.5 918.5,-212.5 918.5,-166.5 651.5,-166.5\"/>\n<text text-anchor=\"middle\" x=\"705\" y=\"-197.3\" font-family=\"Times,serif\" font-size=\"14.00\" fill=\"#000000\">Flatten_static_5</text>\n<polyline fill=\"none\" stroke=\"#000000\" points=\"651.5,-189.5 758.5,-189.5 \"/>\n<text text-anchor=\"middle\" x=\"705\" y=\"-174.3\" font-family=\"Times,serif\" font-size=\"14.00\" fill=\"#000000\">Flatten</text>\n<polyline fill=\"none\" stroke=\"#000000\" points=\"758.5,-166.5 758.5,-212.5 \"/>\n<text text-anchor=\"middle\" x=\"787.5\" y=\"-197.3\" font-family=\"Times,serif\" font-size=\"14.00\" fill=\"#000000\">input:</text>\n<polyline fill=\"none\" stroke=\"#000000\" points=\"758.5,-189.5 816.5,-189.5 \"/>\n<text text-anchor=\"middle\" x=\"787.5\" y=\"-174.3\" font-family=\"Times,serif\" font-size=\"14.00\" fill=\"#000000\">output:</text>\n<polyline fill=\"none\" stroke=\"#000000\" points=\"816.5,-166.5 816.5,-212.5 \"/>\n<text text-anchor=\"middle\" x=\"867.5\" y=\"-197.3\" font-family=\"Times,serif\" font-size=\"14.00\" fill=\"#000000\">(None, 1, 100)</text>\n<polyline fill=\"none\" stroke=\"#000000\" points=\"816.5,-189.5 918.5,-189.5 \"/>\n<text text-anchor=\"middle\" x=\"867.5\" y=\"-174.3\" font-family=\"Times,serif\" font-size=\"14.00\" fill=\"#000000\">(None, 100)</text>\n</g>\n<!-- 139741776405888&#45;&gt;139741776405264 -->\n<g id=\"edge10\" class=\"edge\">\n<title>139741776405888-&gt;139741776405264</title>\n<path fill=\"none\" stroke=\"#000000\" d=\"M800.1503,-249.3799C798.0517,-241.0854 795.6425,-231.5633 793.3719,-222.5889\"/>\n<polygon fill=\"#000000\" stroke=\"#000000\" points=\"796.7371,-221.62 790.8911,-212.784 789.951,-223.337 796.7371,-221.62\"/>\n</g>\n<!-- 139741776407136 -->\n<g id=\"node12\" class=\"node\">\n<title>139741776407136</title>\n<polygon fill=\"none\" stroke=\"#000000\" points=\"276,-83.5 276,-129.5 684,-129.5 684,-83.5 276,-83.5\"/>\n<text text-anchor=\"middle\" x=\"325\" y=\"-114.3\" font-family=\"Times,serif\" font-size=\"14.00\" fill=\"#000000\">concatenate_1</text>\n<polyline fill=\"none\" stroke=\"#000000\" points=\"276,-106.5 374,-106.5 \"/>\n<text text-anchor=\"middle\" x=\"325\" y=\"-91.3\" font-family=\"Times,serif\" font-size=\"14.00\" fill=\"#000000\">Concatenate</text>\n<polyline fill=\"none\" stroke=\"#000000\" points=\"374,-83.5 374,-129.5 \"/>\n<text text-anchor=\"middle\" x=\"403\" y=\"-114.3\" font-family=\"Times,serif\" font-size=\"14.00\" fill=\"#000000\">input:</text>\n<polyline fill=\"none\" stroke=\"#000000\" points=\"374,-106.5 432,-106.5 \"/>\n<text text-anchor=\"middle\" x=\"403\" y=\"-91.3\" font-family=\"Times,serif\" font-size=\"14.00\" fill=\"#000000\">output:</text>\n<polyline fill=\"none\" stroke=\"#000000\" points=\"432,-83.5 432,-129.5 \"/>\n<text text-anchor=\"middle\" x=\"558\" y=\"-114.3\" font-family=\"Times,serif\" font-size=\"14.00\" fill=\"#000000\">[(None, 100), (None, 100), (None, 100)]</text>\n<polyline fill=\"none\" stroke=\"#000000\" points=\"432,-106.5 684,-106.5 \"/>\n<text text-anchor=\"middle\" x=\"558\" y=\"-91.3\" font-family=\"Times,serif\" font-size=\"14.00\" fill=\"#000000\">(None, 300)</text>\n</g>\n<!-- 139742047814080&#45;&gt;139741776407136 -->\n<g id=\"edge11\" class=\"edge\">\n<title>139742047814080-&gt;139741776407136</title>\n<path fill=\"none\" stroke=\"#000000\" d=\"M259.5545,-166.4901C298.6424,-155.853 345.2163,-143.1788 385.4626,-132.2266\"/>\n<polygon fill=\"#000000\" stroke=\"#000000\" points=\"386.551,-135.5577 395.281,-129.5547 384.7129,-128.8034 386.551,-135.5577\"/>\n</g>\n<!-- 139741777329504&#45;&gt;139741776407136 -->\n<g id=\"edge12\" class=\"edge\">\n<title>139741777329504-&gt;139741776407136</title>\n<path fill=\"none\" stroke=\"#000000\" d=\"M480,-166.3799C480,-158.1745 480,-148.7679 480,-139.8786\"/>\n<polygon fill=\"#000000\" stroke=\"#000000\" points=\"483.5001,-139.784 480,-129.784 476.5001,-139.784 483.5001,-139.784\"/>\n</g>\n<!-- 139741776405264&#45;&gt;139741776407136 -->\n<g id=\"edge13\" class=\"edge\">\n<title>139741776405264-&gt;139741776407136</title>\n<path fill=\"none\" stroke=\"#000000\" d=\"M700.4455,-166.4901C661.3576,-155.853 614.7837,-143.1788 574.5374,-132.2266\"/>\n<polygon fill=\"#000000\" stroke=\"#000000\" points=\"575.2871,-128.8034 564.719,-129.5547 573.449,-135.5577 575.2871,-128.8034\"/>\n</g>\n<!-- 139741776722480 -->\n<g id=\"node13\" class=\"node\">\n<title>139741776722480</title>\n<polygon fill=\"none\" stroke=\"#000000\" points=\"380.5,-.5 380.5,-46.5 579.5,-46.5 579.5,-.5 380.5,-.5\"/>\n<text text-anchor=\"middle\" x=\"407.5\" y=\"-31.3\" font-family=\"Times,serif\" font-size=\"14.00\" fill=\"#000000\">output</text>\n<polyline fill=\"none\" stroke=\"#000000\" points=\"380.5,-23.5 434.5,-23.5 \"/>\n<text text-anchor=\"middle\" x=\"407.5\" y=\"-8.3\" font-family=\"Times,serif\" font-size=\"14.00\" fill=\"#000000\">Dense</text>\n<polyline fill=\"none\" stroke=\"#000000\" points=\"434.5,-.5 434.5,-46.5 \"/>\n<text text-anchor=\"middle\" x=\"463.5\" y=\"-31.3\" font-family=\"Times,serif\" font-size=\"14.00\" fill=\"#000000\">input:</text>\n<polyline fill=\"none\" stroke=\"#000000\" points=\"434.5,-23.5 492.5,-23.5 \"/>\n<text text-anchor=\"middle\" x=\"463.5\" y=\"-8.3\" font-family=\"Times,serif\" font-size=\"14.00\" fill=\"#000000\">output:</text>\n<polyline fill=\"none\" stroke=\"#000000\" points=\"492.5,-.5 492.5,-46.5 \"/>\n<text text-anchor=\"middle\" x=\"536\" y=\"-31.3\" font-family=\"Times,serif\" font-size=\"14.00\" fill=\"#000000\">(None, 300)</text>\n<polyline fill=\"none\" stroke=\"#000000\" points=\"492.5,-23.5 579.5,-23.5 \"/>\n<text text-anchor=\"middle\" x=\"536\" y=\"-8.3\" font-family=\"Times,serif\" font-size=\"14.00\" fill=\"#000000\">(None, 1)</text>\n</g>\n<!-- 139741776407136&#45;&gt;139741776722480 -->\n<g id=\"edge14\" class=\"edge\">\n<title>139741776407136-&gt;139741776722480</title>\n<path fill=\"none\" stroke=\"#000000\" d=\"M480,-83.3799C480,-75.1745 480,-65.7679 480,-56.8786\"/>\n<polygon fill=\"#000000\" stroke=\"#000000\" points=\"483.5001,-56.784 480,-46.784 476.5001,-56.784 483.5001,-56.784\"/>\n</g>\n</g>\n</svg>"
          },
          "metadata": {},
          "execution_count": 68
        }
      ]
    },
    {
      "cell_type": "code",
      "source": [
        "# import os\n",
        "# import numpy as np\n",
        "\n",
        "# from sklearn.metrics import classification_report\n",
        "\n",
        "# from keras.models import Model\n",
        "# from keras.activations import relu\n",
        "# from keras.layers import Input, Dense, Embedding, Flatten, Conv1D, MaxPooling1D\n",
        "# from keras.layers import Dropout, concatenate\n",
        "\n",
        "# def load_fasttext_embeddings():\n",
        "#     glove_dir = '/content/drive/MyDrive/mr_data/Glove.6B'\n",
        "#     embeddings_index = {}\n",
        "#     f = open(os.path.join(glove_dir, 'glove.6B.100d.txt'))\n",
        "#     for line in f:\n",
        "#         values = line.split()\n",
        "#         word = values[0]\n",
        "#         coefs = np.asarray(values[1:], dtype='float32')\n",
        "#         embeddings_index[word] = coefs\n",
        "#     f.close()\n",
        "#     print('Loaded %s word vectors.' % len(embeddings_index))\n",
        "#     return embeddings_index\n",
        "\n",
        "\n",
        "# def create_embeddings_matrix(embeddings_index, vocabulary, embedding_dim=100):\n",
        "#     embeddings_matrix = np.random.rand(len(vocabulary) + 1, embedding_dim)\n",
        "#     for i, word in enumerate(vocabulary):\n",
        "#         embedding_vector = embeddings_index.get(word)\n",
        "#         if embedding_vector is not None:\n",
        "#             embeddings_matrix[i] = embedding_vector\n",
        "#     print('Matrix shape: {}'.format(embeddings_matrix.shape))\n",
        "#     return embeddings_matrix\n",
        "\n",
        "\n",
        "# def get_embeddings_layer(embeddings_matrix, name, max_len, trainable=False):\n",
        "#     embedding_layer = Embedding(\n",
        "#         input_dim=embeddings_matrix.shape[0],\n",
        "#         output_dim=embeddings_matrix.shape[1],\n",
        "#         input_length=max_len,\n",
        "#         weights=[embeddings_matrix],\n",
        "#         trainable=trainable,\n",
        "#         name=name)\n",
        "#     return embedding_layer\n",
        "\n",
        "\n",
        "# def get_conv_pool(x_input, max_len, suffix, n_grams=[3, 4, 5], feature_maps=100):\n",
        "#     branches = []\n",
        "#     for n in n_grams:\n",
        "#         branch = Conv1D(filters=feature_maps, kernel_size=n, activation=relu,\n",
        "#                         name='Conv_' + suffix + '_' + str(n))(x_input)\n",
        "#         branch = MaxPooling1D(pool_size=max_len - n + 1, strides=None, padding='valid',\n",
        "#                               name='MaxPooling_' + suffix + '_' + str(n))(branch)\n",
        "#         branch = Flatten(name='Flatten_' + suffix + '_' + str(n))(branch)\n",
        "#         branches.append(branch)\n",
        "#     return branches\n",
        "\n",
        "\n",
        "def get_cnn_pre_trained_embeddings(embedding_layer, max_len, num_classes,\n",
        "                                   loss='categorical_crossentropy'):\n",
        "    # connect the input with the embedding layer\n",
        "    i = Input(shape=(max_len,), dtype='int32', name='main_input')\n",
        "    x = embedding_layer(i)\n",
        "\n",
        "    # generate several branches in the network, each for a different convolution+pooling operation,\n",
        "    # and concatenate the result of each branch into a single vector\n",
        "    branches = get_conv_pool(x, max_len, 'static')\n",
        "    z = concatenate(branches, axis=-1)\n",
        "    z = Dropout(0.5)(z)\n",
        "\n",
        "    # pass the concatenated vector to the prediction layer\n",
        "    o = Dense(num_classes, activation='softmax', name='output')(z)\n",
        "\n",
        "    model = Model(inputs=i, outputs=o)\n",
        "    model.compile(loss={'output': loss}, optimizer='adam', metrics=['accuracy'])\n",
        "    print()\n",
        "\n",
        "    return model"
      ],
      "metadata": {
        "id": "Cq4PJbPnrjA7"
      },
      "execution_count": null,
      "outputs": []
    },
    {
      "cell_type": "code",
      "source": [
        "embedding_indices = load_fasttext_embeddings()"
      ],
      "metadata": {
        "colab": {
          "base_uri": "https://localhost:8080/"
        },
        "id": "eNpuMoNVKQQO",
        "outputId": "08f57ccb-5e51-443c-fab6-afdac61acc2b"
      },
      "execution_count": null,
      "outputs": [
        {
          "output_type": "stream",
          "name": "stdout",
          "text": [
            "Loaded 400000 word vectors.\n"
          ]
        }
      ]
    },
    {
      "cell_type": "code",
      "source": [
        "model.fit(x_folds_padded, y_folds_categ, batch_size=50, epochs=10)"
      ],
      "metadata": {
        "colab": {
          "base_uri": "https://localhost:8080/",
          "height": 371
        },
        "id": "SWlS_iChmDOk",
        "outputId": "f469f4df-1d48-4c9a-9505-c2c8f00466cd"
      },
      "execution_count": null,
      "outputs": [
        {
          "output_type": "error",
          "ename": "ValueError",
          "evalue": "ignored",
          "traceback": [
            "\u001b[0;31m---------------------------------------------------------------------------\u001b[0m",
            "\u001b[0;31mValueError\u001b[0m                                Traceback (most recent call last)",
            "\u001b[0;32m<ipython-input-71-5ea526403343>\u001b[0m in \u001b[0;36m<module>\u001b[0;34m\u001b[0m\n\u001b[0;32m----> 1\u001b[0;31m \u001b[0mmodel\u001b[0m\u001b[0;34m.\u001b[0m\u001b[0mfit\u001b[0m\u001b[0;34m(\u001b[0m\u001b[0mx_folds_padded\u001b[0m\u001b[0;34m,\u001b[0m \u001b[0my_folds_categ\u001b[0m\u001b[0;34m,\u001b[0m \u001b[0mbatch_size\u001b[0m\u001b[0;34m=\u001b[0m\u001b[0;36m50\u001b[0m\u001b[0;34m,\u001b[0m \u001b[0mepochs\u001b[0m\u001b[0;34m=\u001b[0m\u001b[0;36m10\u001b[0m\u001b[0;34m)\u001b[0m\u001b[0;34m\u001b[0m\u001b[0;34m\u001b[0m\u001b[0m\n\u001b[0m",
            "\u001b[0;32m/usr/local/lib/python3.8/dist-packages/keras/utils/traceback_utils.py\u001b[0m in \u001b[0;36merror_handler\u001b[0;34m(*args, **kwargs)\u001b[0m\n\u001b[1;32m     65\u001b[0m     \u001b[0;32mexcept\u001b[0m \u001b[0mException\u001b[0m \u001b[0;32mas\u001b[0m \u001b[0me\u001b[0m\u001b[0;34m:\u001b[0m  \u001b[0;31m# pylint: disable=broad-except\u001b[0m\u001b[0;34m\u001b[0m\u001b[0;34m\u001b[0m\u001b[0m\n\u001b[1;32m     66\u001b[0m       \u001b[0mfiltered_tb\u001b[0m \u001b[0;34m=\u001b[0m \u001b[0m_process_traceback_frames\u001b[0m\u001b[0;34m(\u001b[0m\u001b[0me\u001b[0m\u001b[0;34m.\u001b[0m\u001b[0m__traceback__\u001b[0m\u001b[0;34m)\u001b[0m\u001b[0;34m\u001b[0m\u001b[0;34m\u001b[0m\u001b[0m\n\u001b[0;32m---> 67\u001b[0;31m       \u001b[0;32mraise\u001b[0m \u001b[0me\u001b[0m\u001b[0;34m.\u001b[0m\u001b[0mwith_traceback\u001b[0m\u001b[0;34m(\u001b[0m\u001b[0mfiltered_tb\u001b[0m\u001b[0;34m)\u001b[0m \u001b[0;32mfrom\u001b[0m \u001b[0;32mNone\u001b[0m\u001b[0;34m\u001b[0m\u001b[0;34m\u001b[0m\u001b[0m\n\u001b[0m\u001b[1;32m     68\u001b[0m     \u001b[0;32mfinally\u001b[0m\u001b[0;34m:\u001b[0m\u001b[0;34m\u001b[0m\u001b[0;34m\u001b[0m\u001b[0m\n\u001b[1;32m     69\u001b[0m       \u001b[0;32mdel\u001b[0m \u001b[0mfiltered_tb\u001b[0m\u001b[0;34m\u001b[0m\u001b[0;34m\u001b[0m\u001b[0m\n",
            "\u001b[0;32m/usr/local/lib/python3.8/dist-packages/keras/engine/data_adapter.py\u001b[0m in \u001b[0;36m_check_data_cardinality\u001b[0;34m(data)\u001b[0m\n\u001b[1;32m   1653\u001b[0m                            for i in tf.nest.flatten(single_data)))\n\u001b[1;32m   1654\u001b[0m     \u001b[0mmsg\u001b[0m \u001b[0;34m+=\u001b[0m \u001b[0;34m\"Make sure all arrays contain the same number of samples.\"\u001b[0m\u001b[0;34m\u001b[0m\u001b[0;34m\u001b[0m\u001b[0m\n\u001b[0;32m-> 1655\u001b[0;31m     \u001b[0;32mraise\u001b[0m \u001b[0mValueError\u001b[0m\u001b[0;34m(\u001b[0m\u001b[0mmsg\u001b[0m\u001b[0;34m)\u001b[0m\u001b[0;34m\u001b[0m\u001b[0;34m\u001b[0m\u001b[0m\n\u001b[0m\u001b[1;32m   1656\u001b[0m \u001b[0;34m\u001b[0m\u001b[0m\n\u001b[1;32m   1657\u001b[0m \u001b[0;34m\u001b[0m\u001b[0m\n",
            "\u001b[0;31mValueError\u001b[0m: Data cardinality is ambiguous:\n  x sizes: 12646, 12358, 12402, 12758, 13362, 13230, 13834, 13188, 12440, 13222\n  y sizes: 12646, 12358, 12402, 12758, 13362, 13230, 13834, 13188, 12440, 13222\nMake sure all arrays contain the same number of samples."
          ]
        }
      ]
    }
  ]
}