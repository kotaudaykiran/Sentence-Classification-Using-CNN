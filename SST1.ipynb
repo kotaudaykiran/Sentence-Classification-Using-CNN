{
  "cells": [
    {
      "cell_type": "code",
      "execution_count": null,
      "metadata": {
        "id": "xKbAy5i3EnOB"
      },
      "outputs": [],
      "source": [
        "import os\n",
        "import random\n",
        "import numpy as np\n",
        "import matplotlib.pyplot as plt\n",
        "\n",
        "\n",
        "from collections import namedtuple\n",
        "\n",
        "from sklearn.metrics import classification_report\n",
        "\n",
        "from sklearn.preprocessing import LabelEncoder\n",
        "\n",
        "from keras.preprocessing.text import Tokenizer\n",
        "from keras_preprocessing.sequence import pad_sequences\n",
        "from keras.utils import to_categorical\n",
        "from keras.models import Model\n",
        "from keras.activations import relu\n",
        "from keras.layers import Input, Dense, Embedding, Flatten, Conv1D, MaxPooling1D\n",
        "from keras.layers import Dropout, concatenate\n"
      ]
    },
    {
      "cell_type": "code",
      "execution_count": null,
      "metadata": {
        "id": "QTubNgnMEqxw",
        "colab": {
          "base_uri": "https://localhost:8080/"
        },
        "outputId": "c5e1822d-93ae-42fe-da4c-36f06d2a0403"
      },
      "outputs": [
        {
          "output_type": "stream",
          "name": "stdout",
          "text": [
            "Mounted at /content/drive\n"
          ]
        }
      ],
      "source": [
        "from google.colab import drive\n",
        "drive.mount('/content/drive')"
      ]
    },
    {
      "cell_type": "code",
      "execution_count": null,
      "metadata": {
        "id": "tSXvNohyFe6i"
      },
      "outputs": [],
      "source": [
        "!cp /content/drive/MyDrive/SST1/convnets_utils.py /content"
      ]
    },
    {
      "cell_type": "code",
      "execution_count": null,
      "metadata": {
        "id": "4wJHc3ueGZA_"
      },
      "outputs": [],
      "source": [
        "# Stanford Sentiment Treebank - movie reviews with fine-grained labels\n",
        "# https://nlp.stanford.edu/sentiment/\n",
        "\n",
        "ST_sentence = namedtuple(\"Stanford_Sentiment\", \"id sentence\")\n",
        "ST_score = namedtuple(\"Stanford_Sentiment\", \"id score\")\n",
        "\n",
        "sentences = dict()\n",
        "scores = dict()\n",
        "train = []\n",
        "dev = []\n",
        "test = []\n",
        "\n",
        "for filename in ['datasetSentences.txt','datasetSplit.txt', 'sentiment_labels.txt']:\n",
        "    with open(\"/content/drive/MyDrive/SST1/ST/\"+filename,'r') as f_input:\n",
        "        for line in f_input:\n",
        "\n",
        "            # skip headers\n",
        "            if line.startswith(\"sentence_index\") or line.startswith('phrase id'):\n",
        "                continue\n",
        "\n",
        "            # load sentences\n",
        "            if filename=='datasetSentences.txt':\n",
        "                sent_id, sentence = line.split('\\t', 1)\n",
        "                sentences[sent_id] = sentence.strip()\n",
        "\n",
        "            # load splits\n",
        "            if filename=='datasetSplit.txt':\n",
        "                sent_id, split = line.split(',', 1)\n",
        "                split = int(split.strip())\n",
        "                if split == 1:\n",
        "                    train.append(sent_id)\n",
        "                if split == 2:\n",
        "                    test.append(sent_id)\n",
        "                if split == 3:\n",
        "                    dev.append(sent_id)\n",
        "\n",
        "            # sentences_id\n",
        "            if filename=='sentiment_labels.txt':\n",
        "                sent_id, sent_score = line.split('|', 1)\n",
        "                #sent_score = float(sent_score.strip())\n",
        "                sample = ST_score(sent_id, float(sent_score.strip()))\n",
        "                scores[sent_id] = sent_score.strip()"
      ]
    },
    {
      "cell_type": "code",
      "execution_count": null,
      "metadata": {
        "colab": {
          "base_uri": "https://localhost:8080/"
        },
        "id": "NxDEWH2qHTVJ",
        "outputId": "82a3f180-edea-44ee-e687-3cafca9ab6fc"
      },
      "outputs": [
        {
          "output_type": "stream",
          "name": "stdout",
          "text": [
            "Total Nr. Samples: 11855\n",
            "Total Nr. Scores : 239232\n",
            "\n",
            "Train  : 8544\n",
            "Dev    : 1101\n",
            "Test   : 2210\n"
          ]
        }
      ],
      "source": [
        "print(\"Total Nr. Samples: {}\".format(len(sentences)))\n",
        "print(\"Total Nr. Scores : {}\".format(len(scores)))\n",
        "print()\n",
        "print(\"Train  : {}\".format(len(train)))\n",
        "print(\"Dev    : {}\".format(len(dev)))\n",
        "print(\"Test   : {}\".format(len(test)))\n"
      ]
    },
    {
      "cell_type": "code",
      "execution_count": null,
      "metadata": {
        "id": "yNMLFJwxHUAu"
      },
      "outputs": [],
      "source": [
        "# built two lists with sentences and labels\n",
        "x_train_data = [sentences[x] for x in train]\n",
        "y_train_data = [scores[x] for x in train]\n",
        "\n",
        "x_dev_data = [sentences[x] for x in dev]\n",
        "y_dev_data = [scores[x] for x in dev]\n",
        "\n",
        "x_test_data = [sentences[x] for x in test]\n",
        "y_test_data = [scores[x] for x in test]\n"
      ]
    },
    {
      "cell_type": "code",
      "execution_count": null,
      "metadata": {
        "colab": {
          "base_uri": "https://localhost:8080/"
        },
        "id": "fGo-tH0THMq7",
        "outputId": "75678557-e5dd-4df9-af71-a778911e476a"
      },
      "outputs": [
        {
          "output_type": "stream",
          "name": "stdout",
          "text": [
            "Found 15337 unique tokens.\n"
          ]
        }
      ],
      "source": [
        "# convert list of tokens/words to indexes\n",
        "tokenizer = Tokenizer()\n",
        "tokenizer.fit_on_texts(x_train_data)\n",
        "sequences_train = tokenizer.texts_to_sequences(x_train_data)\n",
        "word_index = tokenizer.word_index\n",
        "print('Found %s unique tokens.' % len(word_index))\n"
      ]
    },
    {
      "cell_type": "code",
      "execution_count": null,
      "metadata": {
        "colab": {
          "base_uri": "https://localhost:8080/"
        },
        "id": "GDmWFftoHGNJ",
        "outputId": "76076cc7-6f07-48e7-a554-42a8649165f9"
      },
      "outputs": [
        {
          "output_type": "execute_result",
          "data": {
            "text/plain": [
              "49"
            ]
          },
          "metadata": {},
          "execution_count": 8
        }
      ],
      "source": [
        "# get the max sentence lenght, needed for padding\n",
        "max_input_length = max([len(x) for x in sequences_train])\n",
        "max_input_length"
      ]
    },
    {
      "cell_type": "code",
      "execution_count": null,
      "metadata": {
        "id": "eeKedNtRGbTN"
      },
      "outputs": [],
      "source": [
        "# pad all the sequences of indexes to the 'max_input_lenght'\n",
        "x_train_data_padded = pad_sequences(sequences_train, maxlen=max_input_length, padding='post', truncating='post')\n",
        "x_dev_data_padded = pad_sequences(tokenizer.texts_to_sequences(x_dev_data), maxlen=max_input_length, padding='post', truncating='post')\n",
        "x_test_data_padded = pad_sequences(tokenizer.texts_to_sequences(x_test_data), maxlen=max_input_length, padding='post', truncating='post')"
      ]
    },
    {
      "cell_type": "code",
      "execution_count": null,
      "metadata": {
        "id": "wSXW8P8OGgYC"
      },
      "outputs": [],
      "source": [
        "def convert_to_categories(y_data):\n",
        "    y_categories = []\n",
        "    for score in y_data:\n",
        "        if 0.0<=float(score)<0.2:\n",
        "            y_categories.append('very_negative')\n",
        "        elif 0.2<=float(score)<0.4:\n",
        "            y_categories.append('negative')\n",
        "        elif 0.4<=float(score)<0.6:\n",
        "            y_categories.append('neutral')\n",
        "        elif 0.6<=float(score)<0.8:\n",
        "            y_categories.append('positive')\n",
        "        elif 0.8<=float(score)<=1.0:\n",
        "            y_categories.append('very positive')\n",
        "\n",
        "    return y_categories"
      ]
    },
    {
      "cell_type": "code",
      "execution_count": null,
      "metadata": {
        "id": "ST8YRzadGju6"
      },
      "outputs": [],
      "source": [
        "# Convert from scores to categories\n",
        "y_train_data_categ = convert_to_categories(y_train_data)\n",
        "y_dev_data_categ = convert_to_categories(y_dev_data)\n",
        "y_test_data_categ = convert_to_categories(y_test_data)\n",
        "\n",
        "# Encode the labels, each must be a vector with dim = num. of possible labels\n",
        "le = LabelEncoder()\n",
        "le.fit(y_train_data_categ)\n",
        "\n",
        "labels_encoded_train = le.transform(y_train_data_categ)\n",
        "labels_encoded_dev = le.transform(y_dev_data_categ)\n",
        "labels_encoded_test = le.transform(y_test_data_categ)\n",
        "\n",
        "categorical_labels_train = to_categorical(labels_encoded_train, num_classes=None)\n",
        "categorical_labels_dev = to_categorical(labels_encoded_dev, num_classes=None)\n",
        "categorical_labels_test = to_categorical(labels_encoded_test, num_classes=None)"
      ]
    },
    {
      "cell_type": "code",
      "execution_count": null,
      "metadata": {
        "colab": {
          "base_uri": "https://localhost:8080/"
        },
        "id": "qknK24b6HpR6",
        "outputId": "2a1acbf7-82b6-4428-ea2c-de9c3f80a989"
      },
      "outputs": [
        {
          "output_type": "stream",
          "name": "stdout",
          "text": [
            "(8544, 49)\n",
            "(8544, 5)\n"
          ]
        }
      ],
      "source": [
        "print(x_train_data_padded.shape)\n",
        "print(categorical_labels_train.shape)"
      ]
    },
    {
      "cell_type": "code",
      "execution_count": null,
      "metadata": {
        "colab": {
          "base_uri": "https://localhost:8080/"
        },
        "id": "aVeMc3SYHtoA",
        "outputId": "d5e5a796-f1ac-4775-f3b2-6deecf312d06"
      },
      "outputs": [
        {
          "output_type": "stream",
          "name": "stdout",
          "text": [
            "(1101, 49)\n",
            "(1101, 5)\n"
          ]
        }
      ],
      "source": [
        "print(x_dev_data_padded.shape)\n",
        "print(categorical_labels_dev.shape)"
      ]
    },
    {
      "cell_type": "code",
      "execution_count": null,
      "metadata": {
        "colab": {
          "base_uri": "https://localhost:8080/"
        },
        "id": "sD_5sYjgHwCr",
        "outputId": "f14193ac-9a44-4eb8-f31c-a7c2850f482c"
      },
      "outputs": [
        {
          "output_type": "stream",
          "name": "stdout",
          "text": [
            "(2210, 49)\n",
            "(2210, 5)\n"
          ]
        }
      ],
      "source": [
        "print(x_test_data_padded.shape)\n",
        "print(categorical_labels_test.shape)"
      ]
    },
    {
      "cell_type": "code",
      "execution_count": null,
      "metadata": {
        "id": "uKz2_CvPHyiv"
      },
      "outputs": [],
      "source": [
        "def load_fasttext_embeddings():\n",
        "    glove_dir = '/content/drive/MyDrive/SST1/Glove.6B'\n",
        "    embeddings_index = {}\n",
        "    f = open(os.path.join(glove_dir, 'glove.6B.100d.txt'))\n",
        "    for line in f:\n",
        "        values = line.split()\n",
        "        word = values[0]\n",
        "        coefs = np.asarray(values[1:], dtype='float32')\n",
        "        embeddings_index[word] = coefs\n",
        "    f.close()\n",
        "    print('Loaded %s word vectors.' % len(embeddings_index))\n",
        "    return embeddings_index\n",
        "\n",
        "def create_embeddings_matrix(embeddings_index, vocabulary, embedding_dim=100):\n",
        "    embeddings_matrix = np.random.rand(len(vocabulary) + 1, embedding_dim)\n",
        "    for i, word in enumerate(vocabulary):\n",
        "        embedding_vector = embeddings_index.get(word)\n",
        "        if embedding_vector is not None:\n",
        "            embeddings_matrix[i] = embedding_vector\n",
        "    print('Matrix shape: {}'.format(embeddings_matrix.shape))\n",
        "    return embeddings_matrix\n",
        "\n",
        "\n",
        "def get_embeddings_layer(embeddings_matrix, name, max_len, trainable=False):\n",
        "    embedding_layer = Embedding(\n",
        "        input_dim=embeddings_matrix.shape[0],\n",
        "        output_dim=embeddings_matrix.shape[1],\n",
        "        input_length=max_len,\n",
        "        weights=[embeddings_matrix],\n",
        "        trainable=trainable,\n",
        "        name=name)\n",
        "    return embedding_layer\n",
        "\n",
        "def get_conv_pool(x_input, max_len, suffix, n_grams=[3, 4, 5], feature_maps=100):\n",
        "    branches = []\n",
        "    for n in n_grams:\n",
        "        branch = Conv1D(filters=feature_maps, kernel_size=n, activation=relu,\n",
        "                        name='Conv_' + suffix + '_' + str(n))(x_input)\n",
        "        branch = MaxPooling1D(pool_size=max_len - n + 1, strides=None, padding='valid',\n",
        "                              name='MaxPooling_' + suffix + '_' + str(n))(branch)\n",
        "        branch = Flatten(name='Flatten_' + suffix + '_' + str(n))(branch)\n",
        "        branches.append(branch)\n",
        "    return branches\n",
        "\n",
        "def get_cnn_pre_trained_embeddings(embedding_layer, max_len, num_classes,\n",
        "                                   loss='categorical_crossentropy'):\n",
        "    # connect the input with the embedding layer\n",
        "    i = Input(shape=(max_len,), dtype='int32', name='main_input')\n",
        "    x = embedding_layer(i)\n",
        "\n",
        "    # generate several branches in the network, each for a different convolution+pooling operation,\n",
        "    # and concatenate the result of each branch into a single vector\n",
        "    branches = get_conv_pool(x, max_len, 'static')\n",
        "    z = concatenate(branches, axis=-1)\n",
        "    z = Dropout(0.5)(z)\n",
        "\n",
        "    # pass the concatenated vector to the prediction layer\n",
        "    o = Dense(num_classes, activation='softmax', name='output')(z)\n",
        "\n",
        "    model = Model(inputs=i, outputs=o)\n",
        "    model.compile(loss={'output': loss}, optimizer='adam', metrics=['accuracy'])\n",
        "\n",
        "    return model"
      ]
    },
    {
      "cell_type": "code",
      "execution_count": null,
      "metadata": {
        "colab": {
          "base_uri": "https://localhost:8080/"
        },
        "id": "VACCfDwpH0up",
        "outputId": "2cf8e00e-6524-4c36-bd55-f35fb57053c7"
      },
      "outputs": [
        {
          "output_type": "stream",
          "name": "stdout",
          "text": [
            "Loaded 400000 word vectors.\n",
            "Matrix shape: (15338, 100)\n"
          ]
        }
      ],
      "source": [
        "embeddings_index = load_fasttext_embeddings()\n",
        "embeddings_matrix = create_embeddings_matrix(embeddings_index, word_index, 100)\n",
        "\n",
        "embedding_layer_static = get_embeddings_layer(embeddings_matrix,\n",
        "                                              'embedding_layer_static',\n",
        "                                              max_input_length,\n",
        "                                              trainable=False)\n",
        "\n",
        "model_2 = get_cnn_pre_trained_embeddings(embedding_layer_static, max_input_length, 5,\n",
        "                                         loss='categorical_crossentropy')"
      ]
    },
    {
      "cell_type": "code",
      "execution_count": null,
      "metadata": {
        "colab": {
          "base_uri": "https://localhost:8080/"
        },
        "id": "Kod6DBvUH5dl",
        "outputId": "c68bea7b-2b0c-49fc-e2f5-ebc473196e0c"
      },
      "outputs": [
        {
          "output_type": "stream",
          "name": "stdout",
          "text": [
            "Epoch 1/10\n",
            "171/171 [==============================] - 9s 47ms/step - loss: 1.4455 - accuracy: 0.4774 - val_loss: 1.4287 - val_accuracy: 0.4578\n",
            "Epoch 2/10\n",
            "171/171 [==============================] - 7s 42ms/step - loss: 1.2549 - accuracy: 0.5309 - val_loss: 1.4109 - val_accuracy: 0.4569\n",
            "Epoch 3/10\n",
            "171/171 [==============================] - 7s 42ms/step - loss: 1.2051 - accuracy: 0.5437 - val_loss: 1.4122 - val_accuracy: 0.4559\n",
            "Epoch 4/10\n",
            "171/171 [==============================] - 7s 43ms/step - loss: 1.1452 - accuracy: 0.5638 - val_loss: 1.4475 - val_accuracy: 0.4559\n",
            "Epoch 5/10\n",
            "171/171 [==============================] - 7s 43ms/step - loss: 1.0834 - accuracy: 0.5825 - val_loss: 1.4551 - val_accuracy: 0.4559\n",
            "Epoch 6/10\n",
            "171/171 [==============================] - 7s 42ms/step - loss: 1.0233 - accuracy: 0.6122 - val_loss: 1.5324 - val_accuracy: 0.4559\n",
            "Epoch 7/10\n",
            "171/171 [==============================] - 7s 42ms/step - loss: 0.9560 - accuracy: 0.6380 - val_loss: 1.4950 - val_accuracy: 0.4514\n",
            "Epoch 8/10\n",
            "171/171 [==============================] - 9s 54ms/step - loss: 0.8953 - accuracy: 0.6580 - val_loss: 1.4982 - val_accuracy: 0.4441\n",
            "Epoch 9/10\n",
            "171/171 [==============================] - 7s 42ms/step - loss: 0.8302 - accuracy: 0.6926 - val_loss: 1.5637 - val_accuracy: 0.4450\n",
            "Epoch 10/10\n",
            "171/171 [==============================] - 7s 43ms/step - loss: 0.7827 - accuracy: 0.7094 - val_loss: 1.5767 - val_accuracy: 0.4223\n"
          ]
        }
      ],
      "source": [
        "history = model_2.fit(x=x_train_data_padded,\n",
        "                      validation_data=(x_dev_data_padded, categorical_labels_dev),\n",
        "                      y=categorical_labels_train, batch_size=50, epochs=10)"
      ]
    },
    {
      "cell_type": "code",
      "execution_count": null,
      "metadata": {
        "colab": {
          "base_uri": "https://localhost:8080/"
        },
        "id": "4S-CIGc5IAsE",
        "outputId": "9adc5964-9fbf-4037-c571-8a0c93a6600a"
      },
      "outputs": [
        {
          "output_type": "execute_result",
          "data": {
            "text/plain": [
              "0.48914027214050293"
            ]
          },
          "metadata": {},
          "execution_count": 18
        }
      ],
      "source": [
        "loss, accuracy = model_2.evaluate(x_test_data_padded, categorical_labels_test, verbose=0)\n",
        "accuracy"
      ]
    },
    {
      "cell_type": "code",
      "execution_count": null,
      "metadata": {
        "colab": {
          "base_uri": "https://localhost:8080/",
          "height": 295
        },
        "id": "6f6miKVVNf5m",
        "outputId": "ebab240b-c7c4-4c91-ec20-ebfa76ad4778"
      },
      "outputs": [
        {
          "output_type": "display_data",
          "data": {
            "text/plain": [
              "<Figure size 432x288 with 1 Axes>"
            ],
            "image/png": "[encoded data removed]"
          },
          "metadata": {
            "needs_background": "light"
          }
        }
      ],
      "source": [
        "plt.plot(history.history['accuracy'])\n",
        "\n",
        "plt.title(\"Model Accuracy\")\n",
        "\n",
        "plt.ylabel('accuracy')\n",
        "\n",
        "plt.xlabel('epoch')\n",
        "\n",
        "plt.legend(['train'], loc='upper left')\n",
        "\n",
        "plt.show()"
      ]
    },
    {
      "cell_type": "code",
      "execution_count": null,
      "metadata": {
        "colab": {
          "base_uri": "https://localhost:8080/",
          "height": 295
        },
        "id": "TAXHEHyqOfPA",
        "outputId": "6e88e470-8e77-4a10-d1fc-6a5c5828be86"
      },
      "outputs": [
        {
          "output_type": "display_data",
          "data": {
            "text/plain": [
              "<Figure size 432x288 with 1 Axes>"
            ],
            "image/png": "[encoded data removed]"
          },
          "metadata": {
            "needs_background": "light"
          }
        }
      ],
      "source": [
        "plt.plot(history.history['loss'])\n",
        "\n",
        "plt.title(\"Model Loss\")\n",
        "\n",
        "plt.ylabel('loss')\n",
        "\n",
        "plt.xlabel('epoch')\n",
        "\n",
        "plt.legend(['train'], loc='upper right')\n",
        "\n",
        "plt.show()"
      ]
    },
    {
      "cell_type": "code",
      "execution_count": null,
      "metadata": {
        "colab": {
          "base_uri": "https://localhost:8080/"
        },
        "id": "qic8ZHlVICx5",
        "outputId": "70399937-b361-466e-b718-05cb48677b5a"
      },
      "outputs": [
        {
          "output_type": "stream",
          "name": "stdout",
          "text": [
            "70/70 [==============================] - 1s 11ms/step\n",
            "               precision    recall  f1-score   support\n",
            "\n",
            "     negative       0.17      0.05      0.08       405\n",
            "      neutral       0.52      0.90      0.66      1155\n",
            "     positive       0.26      0.05      0.09       424\n",
            "very positive       0.20      0.01      0.02       112\n",
            "very_negative       0.00      0.00      0.00       114\n",
            "\n",
            "     accuracy                           0.49      2210\n",
            "    macro avg       0.23      0.20      0.17      2210\n",
            " weighted avg       0.36      0.49      0.38      2210\n",
            "\n"
          ]
        },
        {
          "output_type": "stream",
          "name": "stderr",
          "text": [
            "/usr/local/lib/python3.8/dist-packages/sklearn/metrics/_classification.py:1318: UndefinedMetricWarning: Precision and F-score are ill-defined and being set to 0.0 in labels with no predicted samples. Use `zero_division` parameter to control this behavior.\n",
            "  _warn_prf(average, modifier, msg_start, len(result))\n",
            "/usr/local/lib/python3.8/dist-packages/sklearn/metrics/_classification.py:1318: UndefinedMetricWarning: Precision and F-score are ill-defined and being set to 0.0 in labels with no predicted samples. Use `zero_division` parameter to control this behavior.\n",
            "  _warn_prf(average, modifier, msg_start, len(result))\n",
            "/usr/local/lib/python3.8/dist-packages/sklearn/metrics/_classification.py:1318: UndefinedMetricWarning: Precision and F-score are ill-defined and being set to 0.0 in labels with no predicted samples. Use `zero_division` parameter to control this behavior.\n",
            "  _warn_prf(average, modifier, msg_start, len(result))\n"
          ]
        }
      ],
      "source": [
        "raw_predictions = model_2.predict(x_test_data_padded)\n",
        "class_predictions = [np.argmax(x) for x in raw_predictions]\n",
        "print(classification_report(y_test_data_categ, le.inverse_transform(class_predictions)))\n"
      ]
    }
  ],
  "metadata": {
    "colab": {
      "provenance": []
    },
    "kernelspec": {
      "display_name": "Python 3",
      "name": "python3"
    },
    "language_info": {
      "name": "python"
    }
  },
  "nbformat": 4,
  "nbformat_minor": 0
}